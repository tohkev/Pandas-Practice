{
 "cells": [
  {
   "cell_type": "code",
   "execution_count": 1,
   "metadata": {},
   "outputs": [],
   "source": [
    "#importing dependencies\n",
    "import os\n",
    "import csv"
   ]
  },
  {
   "cell_type": "code",
   "execution_count": 2,
   "metadata": {
    "scrolled": true
   },
   "outputs": [],
   "source": [
    "#path to file\n",
    "path = os.path.join(\"Resources\",\"netflix_ratings.csv\")"
   ]
  },
  {
   "cell_type": "code",
   "execution_count": 3,
   "metadata": {},
   "outputs": [
    {
     "name": "stdout",
     "output_type": "stream",
     "text": [
      "What show would you like to look up? white chicks\n"
     ]
    }
   ],
   "source": [
    "search = False\n",
    "search_term = input(\"What show would you like to look up? \")"
   ]
  },
  {
   "cell_type": "code",
   "execution_count": 5,
   "metadata": {
    "scrolled": false
   },
   "outputs": [
    {
     "name": "stdout",
     "output_type": "stream",
     "text": [
      "White Chicks is rated PG-13 and has a rating of 82.\n"
     ]
    }
   ],
   "source": [
    "with open(path, \"r\") as datafile:\n",
    "    reader = csv.reader(datafile, delimiter=\",\")\n",
    "    header = next(reader)\n",
    "    for row in reader:\n",
    "        if search_term.lower() in row[0].lower():\n",
    "            print(f\"{row[0]} is rated {row[1]} and has a rating of {row[5]}.\")\n",
    "            search = True\n",
    "            break\n",
    "    if search==False:\n",
    "        print(\"Show could not be found\")"
   ]
  }
 ],
 "metadata": {
  "kernelspec": {
   "display_name": "Python 3",
   "language": "python",
   "name": "python3"
  },
  "language_info": {
   "codemirror_mode": {
    "name": "ipython",
    "version": 3
   },
   "file_extension": ".py",
   "mimetype": "text/x-python",
   "name": "python",
   "nbconvert_exporter": "python",
   "pygments_lexer": "ipython3",
   "version": "3.8.5"
  }
 },
 "nbformat": 4,
 "nbformat_minor": 2
}
